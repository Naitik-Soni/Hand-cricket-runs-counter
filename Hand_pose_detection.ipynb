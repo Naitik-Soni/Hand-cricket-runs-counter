{
  "cells": [
    {
      "cell_type": "markdown",
      "metadata": {},
      "source": [
        "### Import necessary libraries"
      ]
    },
    {
      "cell_type": "code",
      "execution_count": 1,
      "metadata": {
        "id": "Wpg4MlNVFmi3"
      },
      "outputs": [],
      "source": [
        "import numpy as np\n",
        "import matplotlib.pyplot as plt\n",
        "import matplotlib.image as mpimg\n",
        "from tensorflow import keras\n",
        "import tensorflow as tf\n",
        "from keras.models import Sequential\n",
        "from keras.layers import Dropout, Dense\n",
        "from tensorflow.keras.utils import to_categorical\n",
        "from sklearn.utils import shuffle\n",
        "from sklearn.model_selection import train_test_split\n",
        "import pandas as pd"
      ]
    },
    {
      "cell_type": "markdown",
      "metadata": {},
      "source": [
        "### Reading the data from csv file\n",
        "### Data is stored in format of x,y coordinates of all 5 fingers and runs according to finger opened"
      ]
    },
    {
      "cell_type": "code",
      "execution_count": 2,
      "metadata": {
        "colab": {
          "base_uri": "https://localhost:8080/",
          "height": 206
        },
        "id": "2vTt-88eGf_v",
        "outputId": "f230058e-5a28-4fd2-d9d6-45190b79d6a9"
      },
      "outputs": [
        {
          "data": {
            "application/vnd.google.colaboratory.intrinsic+json": {
              "summary": "{\n  \"name\": \"data\",\n  \"rows\": 2954,\n  \"fields\": [\n    {\n      \"column\": \"thumb_x\",\n      \"properties\": {\n        \"dtype\": \"number\",\n        \"std\": 0.089923223146732,\n        \"min\": 0.482875884,\n        \"max\": 0.957859933,\n        \"num_unique_values\": 2953,\n        \"samples\": [\n          0.613768935,\n          0.655766964,\n          0.548841\n        ],\n        \"semantic_type\": \"\",\n        \"description\": \"\"\n      }\n    },\n    {\n      \"column\": \"thumb_y\",\n      \"properties\": {\n        \"dtype\": \"number\",\n        \"std\": 0.10559749931925667,\n        \"min\": 0.205118358,\n        \"max\": 0.862591326,\n        \"num_unique_values\": 2952,\n        \"samples\": [\n          0.551075399,\n          0.355604947,\n          0.281121343\n        ],\n        \"semantic_type\": \"\",\n        \"description\": \"\"\n      }\n    },\n    {\n      \"column\": \"index_x\",\n      \"properties\": {\n        \"dtype\": \"number\",\n        \"std\": 0.08169531269711378,\n        \"min\": 0.415049613,\n        \"max\": 0.875299931,\n        \"num_unique_values\": 2954,\n        \"samples\": [\n          0.712549031,\n          0.716919363,\n          0.579261601\n        ],\n        \"semantic_type\": \"\",\n        \"description\": \"\"\n      }\n    },\n    {\n      \"column\": \"index_y\",\n      \"properties\": {\n        \"dtype\": \"number\",\n        \"std\": 0.11632267355607817,\n        \"min\": 0.06773597,\n        \"max\": 0.769718528,\n        \"num_unique_values\": 2954,\n        \"samples\": [\n          0.561332107,\n          0.23266077,\n          0.277381778\n        ],\n        \"semantic_type\": \"\",\n        \"description\": \"\"\n      }\n    },\n    {\n      \"column\": \"middle_x\",\n      \"properties\": {\n        \"dtype\": \"number\",\n        \"std\": 0.0751521646102339,\n        \"min\": 0.476432353,\n        \"max\": 0.852939844,\n        \"num_unique_values\": 2953,\n        \"samples\": [\n          0.568284869,\n          0.699291229,\n          0.585344374\n        ],\n        \"semantic_type\": \"\",\n        \"description\": \"\"\n      }\n    },\n    {\n      \"column\": \"middle_y\",\n      \"properties\": {\n        \"dtype\": \"number\",\n        \"std\": 0.11954481231919308,\n        \"min\": 0.163287133,\n        \"max\": 0.810865521,\n        \"num_unique_values\": 2954,\n        \"samples\": [\n          0.600242138,\n          0.2299591,\n          0.507030547\n        ],\n        \"semantic_type\": \"\",\n        \"description\": \"\"\n      }\n    },\n    {\n      \"column\": \"ring_x\",\n      \"properties\": {\n        \"dtype\": \"number\",\n        \"std\": 0.06543932052809928,\n        \"min\": 0.488791019,\n        \"max\": 0.853252888,\n        \"num_unique_values\": 2952,\n        \"samples\": [\n          0.526164472,\n          0.738455176,\n          0.683878958\n        ],\n        \"semantic_type\": \"\",\n        \"description\": \"\"\n      }\n    },\n    {\n      \"column\": \"ring_y\",\n      \"properties\": {\n        \"dtype\": \"number\",\n        \"std\": 0.1142031208790278,\n        \"min\": 0.210993037,\n        \"max\": 0.849955082,\n        \"num_unique_values\": 2954,\n        \"samples\": [\n          0.639197707,\n          0.308773845,\n          0.555585325\n        ],\n        \"semantic_type\": \"\",\n        \"description\": \"\"\n      }\n    },\n    {\n      \"column\": \"small_x\",\n      \"properties\": {\n        \"dtype\": \"number\",\n        \"std\": 0.05828140960887405,\n        \"min\": 0.496625721,\n        \"max\": 0.853322387,\n        \"num_unique_values\": 2953,\n        \"samples\": [\n          0.626632631,\n          0.690589607,\n          0.564959705\n        ],\n        \"semantic_type\": \"\",\n        \"description\": \"\"\n      }\n    },\n    {\n      \"column\": \"small_y\",\n      \"properties\": {\n        \"dtype\": \"number\",\n        \"std\": 0.08993695901112052,\n        \"min\": 0.28563261,\n        \"max\": 0.902665138,\n        \"num_unique_values\": 2953,\n        \"samples\": [\n          0.514994681,\n          0.56006521,\n          0.578723669\n        ],\n        \"semantic_type\": \"\",\n        \"description\": \"\"\n      }\n    },\n    {\n      \"column\": \"runs\",\n      \"properties\": {\n        \"dtype\": \"number\",\n        \"std\": 1,\n        \"min\": 1,\n        \"max\": 6,\n        \"num_unique_values\": 6,\n        \"samples\": [\n          1,\n          2,\n          6\n        ],\n        \"semantic_type\": \"\",\n        \"description\": \"\"\n      }\n    }\n  ]\n}",
              "type": "dataframe",
              "variable_name": "data"
            },
            "text/html": [
              "\n",
              "  <div id=\"df-ba993b6e-e426-4ee3-be51-96724270ce47\" class=\"colab-df-container\">\n",
              "    <div>\n",
              "<style scoped>\n",
              "    .dataframe tbody tr th:only-of-type {\n",
              "        vertical-align: middle;\n",
              "    }\n",
              "\n",
              "    .dataframe tbody tr th {\n",
              "        vertical-align: top;\n",
              "    }\n",
              "\n",
              "    .dataframe thead th {\n",
              "        text-align: right;\n",
              "    }\n",
              "</style>\n",
              "<table border=\"1\" class=\"dataframe\">\n",
              "  <thead>\n",
              "    <tr style=\"text-align: right;\">\n",
              "      <th></th>\n",
              "      <th>thumb_x</th>\n",
              "      <th>thumb_y</th>\n",
              "      <th>index_x</th>\n",
              "      <th>index_y</th>\n",
              "      <th>middle_x</th>\n",
              "      <th>middle_y</th>\n",
              "      <th>ring_x</th>\n",
              "      <th>ring_y</th>\n",
              "      <th>small_x</th>\n",
              "      <th>small_y</th>\n",
              "      <th>runs</th>\n",
              "    </tr>\n",
              "  </thead>\n",
              "  <tbody>\n",
              "    <tr>\n",
              "      <th>0</th>\n",
              "      <td>0.568524</td>\n",
              "      <td>0.729688</td>\n",
              "      <td>0.540529</td>\n",
              "      <td>0.648647</td>\n",
              "      <td>0.603436</td>\n",
              "      <td>0.778746</td>\n",
              "      <td>0.606466</td>\n",
              "      <td>0.827977</td>\n",
              "      <td>0.594496</td>\n",
              "      <td>0.860963</td>\n",
              "      <td>1</td>\n",
              "    </tr>\n",
              "    <tr>\n",
              "      <th>1</th>\n",
              "      <td>0.565488</td>\n",
              "      <td>0.692211</td>\n",
              "      <td>0.535244</td>\n",
              "      <td>0.610249</td>\n",
              "      <td>0.603174</td>\n",
              "      <td>0.755669</td>\n",
              "      <td>0.605894</td>\n",
              "      <td>0.802521</td>\n",
              "      <td>0.591579</td>\n",
              "      <td>0.831874</td>\n",
              "      <td>1</td>\n",
              "    </tr>\n",
              "    <tr>\n",
              "      <th>2</th>\n",
              "      <td>0.562650</td>\n",
              "      <td>0.641434</td>\n",
              "      <td>0.526106</td>\n",
              "      <td>0.545266</td>\n",
              "      <td>0.596484</td>\n",
              "      <td>0.709543</td>\n",
              "      <td>0.597691</td>\n",
              "      <td>0.754647</td>\n",
              "      <td>0.583163</td>\n",
              "      <td>0.780862</td>\n",
              "      <td>1</td>\n",
              "    </tr>\n",
              "    <tr>\n",
              "      <th>3</th>\n",
              "      <td>0.563605</td>\n",
              "      <td>0.630489</td>\n",
              "      <td>0.529653</td>\n",
              "      <td>0.540169</td>\n",
              "      <td>0.598054</td>\n",
              "      <td>0.705837</td>\n",
              "      <td>0.597662</td>\n",
              "      <td>0.748886</td>\n",
              "      <td>0.583934</td>\n",
              "      <td>0.771489</td>\n",
              "      <td>1</td>\n",
              "    </tr>\n",
              "    <tr>\n",
              "      <th>4</th>\n",
              "      <td>0.561831</td>\n",
              "      <td>0.606720</td>\n",
              "      <td>0.531775</td>\n",
              "      <td>0.507468</td>\n",
              "      <td>0.595446</td>\n",
              "      <td>0.682920</td>\n",
              "      <td>0.594938</td>\n",
              "      <td>0.728781</td>\n",
              "      <td>0.580073</td>\n",
              "      <td>0.752076</td>\n",
              "      <td>1</td>\n",
              "    </tr>\n",
              "  </tbody>\n",
              "</table>\n",
              "</div>\n",
              "    <div class=\"colab-df-buttons\">\n",
              "\n",
              "  <div class=\"colab-df-container\">\n",
              "    <button class=\"colab-df-convert\" onclick=\"convertToInteractive('df-ba993b6e-e426-4ee3-be51-96724270ce47')\"\n",
              "            title=\"Convert this dataframe to an interactive table.\"\n",
              "            style=\"display:none;\">\n",
              "\n",
              "  <svg xmlns=\"http://www.w3.org/2000/svg\" height=\"24px\" viewBox=\"0 -960 960 960\">\n",
              "    <path d=\"M120-120v-720h720v720H120Zm60-500h600v-160H180v160Zm220 220h160v-160H400v160Zm0 220h160v-160H400v160ZM180-400h160v-160H180v160Zm440 0h160v-160H620v160ZM180-180h160v-160H180v160Zm440 0h160v-160H620v160Z\"/>\n",
              "  </svg>\n",
              "    </button>\n",
              "\n",
              "  <style>\n",
              "    .colab-df-container {\n",
              "      display:flex;\n",
              "      gap: 12px;\n",
              "    }\n",
              "\n",
              "    .colab-df-convert {\n",
              "      background-color: #E8F0FE;\n",
              "      border: none;\n",
              "      border-radius: 50%;\n",
              "      cursor: pointer;\n",
              "      display: none;\n",
              "      fill: #1967D2;\n",
              "      height: 32px;\n",
              "      padding: 0 0 0 0;\n",
              "      width: 32px;\n",
              "    }\n",
              "\n",
              "    .colab-df-convert:hover {\n",
              "      background-color: #E2EBFA;\n",
              "      box-shadow: 0px 1px 2px rgba(60, 64, 67, 0.3), 0px 1px 3px 1px rgba(60, 64, 67, 0.15);\n",
              "      fill: #174EA6;\n",
              "    }\n",
              "\n",
              "    .colab-df-buttons div {\n",
              "      margin-bottom: 4px;\n",
              "    }\n",
              "\n",
              "    [theme=dark] .colab-df-convert {\n",
              "      background-color: #3B4455;\n",
              "      fill: #D2E3FC;\n",
              "    }\n",
              "\n",
              "    [theme=dark] .colab-df-convert:hover {\n",
              "      background-color: #434B5C;\n",
              "      box-shadow: 0px 1px 3px 1px rgba(0, 0, 0, 0.15);\n",
              "      filter: drop-shadow(0px 1px 2px rgba(0, 0, 0, 0.3));\n",
              "      fill: #FFFFFF;\n",
              "    }\n",
              "  </style>\n",
              "\n",
              "    <script>\n",
              "      const buttonEl =\n",
              "        document.querySelector('#df-ba993b6e-e426-4ee3-be51-96724270ce47 button.colab-df-convert');\n",
              "      buttonEl.style.display =\n",
              "        google.colab.kernel.accessAllowed ? 'block' : 'none';\n",
              "\n",
              "      async function convertToInteractive(key) {\n",
              "        const element = document.querySelector('#df-ba993b6e-e426-4ee3-be51-96724270ce47');\n",
              "        const dataTable =\n",
              "          await google.colab.kernel.invokeFunction('convertToInteractive',\n",
              "                                                    [key], {});\n",
              "        if (!dataTable) return;\n",
              "\n",
              "        const docLinkHtml = 'Like what you see? Visit the ' +\n",
              "          '<a target=\"_blank\" href=https://colab.research.google.com/notebooks/data_table.ipynb>data table notebook</a>'\n",
              "          + ' to learn more about interactive tables.';\n",
              "        element.innerHTML = '';\n",
              "        dataTable['output_type'] = 'display_data';\n",
              "        await google.colab.output.renderOutput(dataTable, element);\n",
              "        const docLink = document.createElement('div');\n",
              "        docLink.innerHTML = docLinkHtml;\n",
              "        element.appendChild(docLink);\n",
              "      }\n",
              "    </script>\n",
              "  </div>\n",
              "\n",
              "\n",
              "<div id=\"df-25fd7135-4c83-4701-83b6-d7e07a90ff9e\">\n",
              "  <button class=\"colab-df-quickchart\" onclick=\"quickchart('df-25fd7135-4c83-4701-83b6-d7e07a90ff9e')\"\n",
              "            title=\"Suggest charts\"\n",
              "            style=\"display:none;\">\n",
              "\n",
              "<svg xmlns=\"http://www.w3.org/2000/svg\" height=\"24px\"viewBox=\"0 0 24 24\"\n",
              "     width=\"24px\">\n",
              "    <g>\n",
              "        <path d=\"M19 3H5c-1.1 0-2 .9-2 2v14c0 1.1.9 2 2 2h14c1.1 0 2-.9 2-2V5c0-1.1-.9-2-2-2zM9 17H7v-7h2v7zm4 0h-2V7h2v10zm4 0h-2v-4h2v4z\"/>\n",
              "    </g>\n",
              "</svg>\n",
              "  </button>\n",
              "\n",
              "<style>\n",
              "  .colab-df-quickchart {\n",
              "      --bg-color: #E8F0FE;\n",
              "      --fill-color: #1967D2;\n",
              "      --hover-bg-color: #E2EBFA;\n",
              "      --hover-fill-color: #174EA6;\n",
              "      --disabled-fill-color: #AAA;\n",
              "      --disabled-bg-color: #DDD;\n",
              "  }\n",
              "\n",
              "  [theme=dark] .colab-df-quickchart {\n",
              "      --bg-color: #3B4455;\n",
              "      --fill-color: #D2E3FC;\n",
              "      --hover-bg-color: #434B5C;\n",
              "      --hover-fill-color: #FFFFFF;\n",
              "      --disabled-bg-color: #3B4455;\n",
              "      --disabled-fill-color: #666;\n",
              "  }\n",
              "\n",
              "  .colab-df-quickchart {\n",
              "    background-color: var(--bg-color);\n",
              "    border: none;\n",
              "    border-radius: 50%;\n",
              "    cursor: pointer;\n",
              "    display: none;\n",
              "    fill: var(--fill-color);\n",
              "    height: 32px;\n",
              "    padding: 0;\n",
              "    width: 32px;\n",
              "  }\n",
              "\n",
              "  .colab-df-quickchart:hover {\n",
              "    background-color: var(--hover-bg-color);\n",
              "    box-shadow: 0 1px 2px rgba(60, 64, 67, 0.3), 0 1px 3px 1px rgba(60, 64, 67, 0.15);\n",
              "    fill: var(--button-hover-fill-color);\n",
              "  }\n",
              "\n",
              "  .colab-df-quickchart-complete:disabled,\n",
              "  .colab-df-quickchart-complete:disabled:hover {\n",
              "    background-color: var(--disabled-bg-color);\n",
              "    fill: var(--disabled-fill-color);\n",
              "    box-shadow: none;\n",
              "  }\n",
              "\n",
              "  .colab-df-spinner {\n",
              "    border: 2px solid var(--fill-color);\n",
              "    border-color: transparent;\n",
              "    border-bottom-color: var(--fill-color);\n",
              "    animation:\n",
              "      spin 1s steps(1) infinite;\n",
              "  }\n",
              "\n",
              "  @keyframes spin {\n",
              "    0% {\n",
              "      border-color: transparent;\n",
              "      border-bottom-color: var(--fill-color);\n",
              "      border-left-color: var(--fill-color);\n",
              "    }\n",
              "    20% {\n",
              "      border-color: transparent;\n",
              "      border-left-color: var(--fill-color);\n",
              "      border-top-color: var(--fill-color);\n",
              "    }\n",
              "    30% {\n",
              "      border-color: transparent;\n",
              "      border-left-color: var(--fill-color);\n",
              "      border-top-color: var(--fill-color);\n",
              "      border-right-color: var(--fill-color);\n",
              "    }\n",
              "    40% {\n",
              "      border-color: transparent;\n",
              "      border-right-color: var(--fill-color);\n",
              "      border-top-color: var(--fill-color);\n",
              "    }\n",
              "    60% {\n",
              "      border-color: transparent;\n",
              "      border-right-color: var(--fill-color);\n",
              "    }\n",
              "    80% {\n",
              "      border-color: transparent;\n",
              "      border-right-color: var(--fill-color);\n",
              "      border-bottom-color: var(--fill-color);\n",
              "    }\n",
              "    90% {\n",
              "      border-color: transparent;\n",
              "      border-bottom-color: var(--fill-color);\n",
              "    }\n",
              "  }\n",
              "</style>\n",
              "\n",
              "  <script>\n",
              "    async function quickchart(key) {\n",
              "      const quickchartButtonEl =\n",
              "        document.querySelector('#' + key + ' button');\n",
              "      quickchartButtonEl.disabled = true;  // To prevent multiple clicks.\n",
              "      quickchartButtonEl.classList.add('colab-df-spinner');\n",
              "      try {\n",
              "        const charts = await google.colab.kernel.invokeFunction(\n",
              "            'suggestCharts', [key], {});\n",
              "      } catch (error) {\n",
              "        console.error('Error during call to suggestCharts:', error);\n",
              "      }\n",
              "      quickchartButtonEl.classList.remove('colab-df-spinner');\n",
              "      quickchartButtonEl.classList.add('colab-df-quickchart-complete');\n",
              "    }\n",
              "    (() => {\n",
              "      let quickchartButtonEl =\n",
              "        document.querySelector('#df-25fd7135-4c83-4701-83b6-d7e07a90ff9e button');\n",
              "      quickchartButtonEl.style.display =\n",
              "        google.colab.kernel.accessAllowed ? 'block' : 'none';\n",
              "    })();\n",
              "  </script>\n",
              "</div>\n",
              "\n",
              "    </div>\n",
              "  </div>\n"
            ],
            "text/plain": [
              "    thumb_x   thumb_y   index_x   index_y  middle_x  middle_y    ring_x  \\\n",
              "0  0.568524  0.729688  0.540529  0.648647  0.603436  0.778746  0.606466   \n",
              "1  0.565488  0.692211  0.535244  0.610249  0.603174  0.755669  0.605894   \n",
              "2  0.562650  0.641434  0.526106  0.545266  0.596484  0.709543  0.597691   \n",
              "3  0.563605  0.630489  0.529653  0.540169  0.598054  0.705837  0.597662   \n",
              "4  0.561831  0.606720  0.531775  0.507468  0.595446  0.682920  0.594938   \n",
              "\n",
              "     ring_y   small_x   small_y  runs  \n",
              "0  0.827977  0.594496  0.860963     1  \n",
              "1  0.802521  0.591579  0.831874     1  \n",
              "2  0.754647  0.583163  0.780862     1  \n",
              "3  0.748886  0.583934  0.771489     1  \n",
              "4  0.728781  0.580073  0.752076     1  "
            ]
          },
          "execution_count": 2,
          "metadata": {},
          "output_type": "execute_result"
        }
      ],
      "source": [
        "data = pd.read_csv('6_hand_data.csv')\n",
        "data.head()"
      ]
    },
    {
      "cell_type": "markdown",
      "metadata": {},
      "source": [
        "### Plotting the graph for counting the runs distribution"
      ]
    },
    {
      "cell_type": "code",
      "execution_count": 3,
      "metadata": {
        "colab": {
          "base_uri": "https://localhost:8080/"
        },
        "id": "PM06bDn7HvQu",
        "outputId": "d73e7bd9-7921-47e2-9c2d-a3f4e6c902cc"
      },
      "outputs": [
        {
          "data": {
            "text/plain": [
              "array([1, 2, 3, 4, 5, 6])"
            ]
          },
          "execution_count": 3,
          "metadata": {},
          "output_type": "execute_result"
        }
      ],
      "source": [
        "output_classes = data.iloc[:, -1].unique()\n",
        "output_classes"
      ]
    },
    {
      "cell_type": "code",
      "execution_count": 4,
      "metadata": {
        "id": "zBEUx4wfInyt"
      },
      "outputs": [],
      "source": [
        "output_classes_counts = data.iloc[:, -1].value_counts()\n",
        "output_count = [output_classes_counts[1], output_classes_counts[2], output_classes_counts[3], output_classes_counts[4], output_classes_counts[5], output_classes_counts[6]]"
      ]
    },
    {
      "cell_type": "code",
      "execution_count": 5,
      "metadata": {
        "colab": {
          "base_uri": "https://localhost:8080/",
          "height": 430
        },
        "id": "adzeZ_QBJR5s",
        "outputId": "f779cea8-ee33-40eb-954e-056a84ed09f8"
      },
      "outputs": [
        {
          "data": {
            "image/png": "[encoded data removed]",
            "text/plain": [
              "<Figure size 640x480 with 1 Axes>"
            ]
          },
          "metadata": {},
          "output_type": "display_data"
        }
      ],
      "source": [
        "plt.bar(output_classes, output_count)\n",
        "plt.show()"
      ]
    },
    {
      "cell_type": "markdown",
      "metadata": {},
      "source": [
        "### Split data into Input and Output vector"
      ]
    },
    {
      "cell_type": "code",
      "execution_count": 71,
      "metadata": {
        "id": "1e_42xkLdfg5"
      },
      "outputs": [],
      "source": [
        "hand_coordinates, runs = data.iloc[:, :-1], data.iloc[:,-1]"
      ]
    },
    {
      "cell_type": "code",
      "execution_count": 72,
      "metadata": {
        "colab": {
          "base_uri": "https://localhost:8080/",
          "height": 424
        },
        "id": "43_zRxznd002",
        "outputId": "491d1d97-acd1-46c7-9d09-f2c548693f11"
      },
      "outputs": [
        {
          "data": {
            "application/vnd.google.colaboratory.intrinsic+json": {
              "summary": "{\n  \"name\": \"hand_coordinates\",\n  \"rows\": 2954,\n  \"fields\": [\n    {\n      \"column\": \"thumb_x\",\n      \"properties\": {\n        \"dtype\": \"number\",\n        \"std\": 0.089923223146732,\n        \"min\": 0.482875884,\n        \"max\": 0.957859933,\n        \"num_unique_values\": 2953,\n        \"samples\": [\n          0.613768935,\n          0.655766964,\n          0.548841\n        ],\n        \"semantic_type\": \"\",\n        \"description\": \"\"\n      }\n    },\n    {\n      \"column\": \"thumb_y\",\n      \"properties\": {\n        \"dtype\": \"number\",\n        \"std\": 0.10559749931925667,\n        \"min\": 0.205118358,\n        \"max\": 0.862591326,\n        \"num_unique_values\": 2952,\n        \"samples\": [\n          0.551075399,\n          0.355604947,\n          0.281121343\n        ],\n        \"semantic_type\": \"\",\n        \"description\": \"\"\n      }\n    },\n    {\n      \"column\": \"index_x\",\n      \"properties\": {\n        \"dtype\": \"number\",\n        \"std\": 0.08169531269711378,\n        \"min\": 0.415049613,\n        \"max\": 0.875299931,\n        \"num_unique_values\": 2954,\n        \"samples\": [\n          0.712549031,\n          0.716919363,\n          0.579261601\n        ],\n        \"semantic_type\": \"\",\n        \"description\": \"\"\n      }\n    },\n    {\n      \"column\": \"index_y\",\n      \"properties\": {\n        \"dtype\": \"number\",\n        \"std\": 0.11632267355607817,\n        \"min\": 0.06773597,\n        \"max\": 0.769718528,\n        \"num_unique_values\": 2954,\n        \"samples\": [\n          0.561332107,\n          0.23266077,\n          0.277381778\n        ],\n        \"semantic_type\": \"\",\n        \"description\": \"\"\n      }\n    },\n    {\n      \"column\": \"middle_x\",\n      \"properties\": {\n        \"dtype\": \"number\",\n        \"std\": 0.0751521646102339,\n        \"min\": 0.476432353,\n        \"max\": 0.852939844,\n        \"num_unique_values\": 2953,\n        \"samples\": [\n          0.568284869,\n          0.699291229,\n          0.585344374\n        ],\n        \"semantic_type\": \"\",\n        \"description\": \"\"\n      }\n    },\n    {\n      \"column\": \"middle_y\",\n      \"properties\": {\n        \"dtype\": \"number\",\n        \"std\": 0.11954481231919308,\n        \"min\": 0.163287133,\n        \"max\": 0.810865521,\n        \"num_unique_values\": 2954,\n        \"samples\": [\n          0.600242138,\n          0.2299591,\n          0.507030547\n        ],\n        \"semantic_type\": \"\",\n        \"description\": \"\"\n      }\n    },\n    {\n      \"column\": \"ring_x\",\n      \"properties\": {\n        \"dtype\": \"number\",\n        \"std\": 0.06543932052809928,\n        \"min\": 0.488791019,\n        \"max\": 0.853252888,\n        \"num_unique_values\": 2952,\n        \"samples\": [\n          0.526164472,\n          0.738455176,\n          0.683878958\n        ],\n        \"semantic_type\": \"\",\n        \"description\": \"\"\n      }\n    },\n    {\n      \"column\": \"ring_y\",\n      \"properties\": {\n        \"dtype\": \"number\",\n        \"std\": 0.1142031208790278,\n        \"min\": 0.210993037,\n        \"max\": 0.849955082,\n        \"num_unique_values\": 2954,\n        \"samples\": [\n          0.639197707,\n          0.308773845,\n          0.555585325\n        ],\n        \"semantic_type\": \"\",\n        \"description\": \"\"\n      }\n    },\n    {\n      \"column\": \"small_x\",\n      \"properties\": {\n        \"dtype\": \"number\",\n        \"std\": 0.05828140960887405,\n        \"min\": 0.496625721,\n        \"max\": 0.853322387,\n        \"num_unique_values\": 2953,\n        \"samples\": [\n          0.626632631,\n          0.690589607,\n          0.564959705\n        ],\n        \"semantic_type\": \"\",\n        \"description\": \"\"\n      }\n    },\n    {\n      \"column\": \"small_y\",\n      \"properties\": {\n        \"dtype\": \"number\",\n        \"std\": 0.08993695901112052,\n        \"min\": 0.28563261,\n        \"max\": 0.902665138,\n        \"num_unique_values\": 2953,\n        \"samples\": [\n          0.514994681,\n          0.56006521,\n          0.578723669\n        ],\n        \"semantic_type\": \"\",\n        \"description\": \"\"\n      }\n    }\n  ]\n}",
              "type": "dataframe",
              "variable_name": "hand_coordinates"
            },
            "text/html": [
              "\n",
              "  <div id=\"df-85490aa6-eadd-4e20-8dd9-3e90bff0d5d4\" class=\"colab-df-container\">\n",
              "    <div>\n",
              "<style scoped>\n",
              "    .dataframe tbody tr th:only-of-type {\n",
              "        vertical-align: middle;\n",
              "    }\n",
              "\n",
              "    .dataframe tbody tr th {\n",
              "        vertical-align: top;\n",
              "    }\n",
              "\n",
              "    .dataframe thead th {\n",
              "        text-align: right;\n",
              "    }\n",
              "</style>\n",
              "<table border=\"1\" class=\"dataframe\">\n",
              "  <thead>\n",
              "    <tr style=\"text-align: right;\">\n",
              "      <th></th>\n",
              "      <th>thumb_x</th>\n",
              "      <th>thumb_y</th>\n",
              "      <th>index_x</th>\n",
              "      <th>index_y</th>\n",
              "      <th>middle_x</th>\n",
              "      <th>middle_y</th>\n",
              "      <th>ring_x</th>\n",
              "      <th>ring_y</th>\n",
              "      <th>small_x</th>\n",
              "      <th>small_y</th>\n",
              "    </tr>\n",
              "  </thead>\n",
              "  <tbody>\n",
              "    <tr>\n",
              "      <th>0</th>\n",
              "      <td>0.568524</td>\n",
              "      <td>0.729688</td>\n",
              "      <td>0.540529</td>\n",
              "      <td>0.648647</td>\n",
              "      <td>0.603436</td>\n",
              "      <td>0.778746</td>\n",
              "      <td>0.606466</td>\n",
              "      <td>0.827977</td>\n",
              "      <td>0.594496</td>\n",
              "      <td>0.860963</td>\n",
              "    </tr>\n",
              "    <tr>\n",
              "      <th>1</th>\n",
              "      <td>0.565488</td>\n",
              "      <td>0.692211</td>\n",
              "      <td>0.535244</td>\n",
              "      <td>0.610249</td>\n",
              "      <td>0.603174</td>\n",
              "      <td>0.755669</td>\n",
              "      <td>0.605894</td>\n",
              "      <td>0.802521</td>\n",
              "      <td>0.591579</td>\n",
              "      <td>0.831874</td>\n",
              "    </tr>\n",
              "    <tr>\n",
              "      <th>2</th>\n",
              "      <td>0.562650</td>\n",
              "      <td>0.641434</td>\n",
              "      <td>0.526106</td>\n",
              "      <td>0.545266</td>\n",
              "      <td>0.596484</td>\n",
              "      <td>0.709543</td>\n",
              "      <td>0.597691</td>\n",
              "      <td>0.754647</td>\n",
              "      <td>0.583163</td>\n",
              "      <td>0.780862</td>\n",
              "    </tr>\n",
              "    <tr>\n",
              "      <th>3</th>\n",
              "      <td>0.563605</td>\n",
              "      <td>0.630489</td>\n",
              "      <td>0.529653</td>\n",
              "      <td>0.540169</td>\n",
              "      <td>0.598054</td>\n",
              "      <td>0.705837</td>\n",
              "      <td>0.597662</td>\n",
              "      <td>0.748886</td>\n",
              "      <td>0.583934</td>\n",
              "      <td>0.771489</td>\n",
              "    </tr>\n",
              "    <tr>\n",
              "      <th>4</th>\n",
              "      <td>0.561831</td>\n",
              "      <td>0.606720</td>\n",
              "      <td>0.531775</td>\n",
              "      <td>0.507468</td>\n",
              "      <td>0.595446</td>\n",
              "      <td>0.682920</td>\n",
              "      <td>0.594938</td>\n",
              "      <td>0.728781</td>\n",
              "      <td>0.580073</td>\n",
              "      <td>0.752076</td>\n",
              "    </tr>\n",
              "    <tr>\n",
              "      <th>...</th>\n",
              "      <td>...</td>\n",
              "      <td>...</td>\n",
              "      <td>...</td>\n",
              "      <td>...</td>\n",
              "      <td>...</td>\n",
              "      <td>...</td>\n",
              "      <td>...</td>\n",
              "      <td>...</td>\n",
              "      <td>...</td>\n",
              "      <td>...</td>\n",
              "    </tr>\n",
              "    <tr>\n",
              "      <th>2949</th>\n",
              "      <td>0.673236</td>\n",
              "      <td>0.440742</td>\n",
              "      <td>0.693626</td>\n",
              "      <td>0.561158</td>\n",
              "      <td>0.701099</td>\n",
              "      <td>0.597889</td>\n",
              "      <td>0.706767</td>\n",
              "      <td>0.631979</td>\n",
              "      <td>0.708377</td>\n",
              "      <td>0.663240</td>\n",
              "    </tr>\n",
              "    <tr>\n",
              "      <th>2950</th>\n",
              "      <td>0.672875</td>\n",
              "      <td>0.439260</td>\n",
              "      <td>0.693518</td>\n",
              "      <td>0.559343</td>\n",
              "      <td>0.701588</td>\n",
              "      <td>0.597980</td>\n",
              "      <td>0.706157</td>\n",
              "      <td>0.632559</td>\n",
              "      <td>0.706446</td>\n",
              "      <td>0.660544</td>\n",
              "    </tr>\n",
              "    <tr>\n",
              "      <th>2951</th>\n",
              "      <td>0.669850</td>\n",
              "      <td>0.435000</td>\n",
              "      <td>0.693077</td>\n",
              "      <td>0.554181</td>\n",
              "      <td>0.700612</td>\n",
              "      <td>0.591062</td>\n",
              "      <td>0.706182</td>\n",
              "      <td>0.625151</td>\n",
              "      <td>0.707184</td>\n",
              "      <td>0.653399</td>\n",
              "    </tr>\n",
              "    <tr>\n",
              "      <th>2952</th>\n",
              "      <td>0.668282</td>\n",
              "      <td>0.433541</td>\n",
              "      <td>0.693060</td>\n",
              "      <td>0.547988</td>\n",
              "      <td>0.700983</td>\n",
              "      <td>0.584509</td>\n",
              "      <td>0.706833</td>\n",
              "      <td>0.619215</td>\n",
              "      <td>0.707422</td>\n",
              "      <td>0.647399</td>\n",
              "    </tr>\n",
              "    <tr>\n",
              "      <th>2953</th>\n",
              "      <td>0.668837</td>\n",
              "      <td>0.396923</td>\n",
              "      <td>0.691626</td>\n",
              "      <td>0.518909</td>\n",
              "      <td>0.698331</td>\n",
              "      <td>0.559028</td>\n",
              "      <td>0.705970</td>\n",
              "      <td>0.593847</td>\n",
              "      <td>0.706809</td>\n",
              "      <td>0.625725</td>\n",
              "    </tr>\n",
              "  </tbody>\n",
              "</table>\n",
              "<p>2954 rows × 10 columns</p>\n",
              "</div>\n",
              "    <div class=\"colab-df-buttons\">\n",
              "\n",
              "  <div class=\"colab-df-container\">\n",
              "    <button class=\"colab-df-convert\" onclick=\"convertToInteractive('df-85490aa6-eadd-4e20-8dd9-3e90bff0d5d4')\"\n",
              "            title=\"Convert this dataframe to an interactive table.\"\n",
              "            style=\"display:none;\">\n",
              "\n",
              "  <svg xmlns=\"http://www.w3.org/2000/svg\" height=\"24px\" viewBox=\"0 -960 960 960\">\n",
              "    <path d=\"M120-120v-720h720v720H120Zm60-500h600v-160H180v160Zm220 220h160v-160H400v160Zm0 220h160v-160H400v160ZM180-400h160v-160H180v160Zm440 0h160v-160H620v160ZM180-180h160v-160H180v160Zm440 0h160v-160H620v160Z\"/>\n",
              "  </svg>\n",
              "    </button>\n",
              "\n",
              "  <style>\n",
              "    .colab-df-container {\n",
              "      display:flex;\n",
              "      gap: 12px;\n",
              "    }\n",
              "\n",
              "    .colab-df-convert {\n",
              "      background-color: #E8F0FE;\n",
              "      border: none;\n",
              "      border-radius: 50%;\n",
              "      cursor: pointer;\n",
              "      display: none;\n",
              "      fill: #1967D2;\n",
              "      height: 32px;\n",
              "      padding: 0 0 0 0;\n",
              "      width: 32px;\n",
              "    }\n",
              "\n",
              "    .colab-df-convert:hover {\n",
              "      background-color: #E2EBFA;\n",
              "      box-shadow: 0px 1px 2px rgba(60, 64, 67, 0.3), 0px 1px 3px 1px rgba(60, 64, 67, 0.15);\n",
              "      fill: #174EA6;\n",
              "    }\n",
              "\n",
              "    .colab-df-buttons div {\n",
              "      margin-bottom: 4px;\n",
              "    }\n",
              "\n",
              "    [theme=dark] .colab-df-convert {\n",
              "      background-color: #3B4455;\n",
              "      fill: #D2E3FC;\n",
              "    }\n",
              "\n",
              "    [theme=dark] .colab-df-convert:hover {\n",
              "      background-color: #434B5C;\n",
              "      box-shadow: 0px 1px 3px 1px rgba(0, 0, 0, 0.15);\n",
              "      filter: drop-shadow(0px 1px 2px rgba(0, 0, 0, 0.3));\n",
              "      fill: #FFFFFF;\n",
              "    }\n",
              "  </style>\n",
              "\n",
              "    <script>\n",
              "      const buttonEl =\n",
              "        document.querySelector('#df-85490aa6-eadd-4e20-8dd9-3e90bff0d5d4 button.colab-df-convert');\n",
              "      buttonEl.style.display =\n",
              "        google.colab.kernel.accessAllowed ? 'block' : 'none';\n",
              "\n",
              "      async function convertToInteractive(key) {\n",
              "        const element = document.querySelector('#df-85490aa6-eadd-4e20-8dd9-3e90bff0d5d4');\n",
              "        const dataTable =\n",
              "          await google.colab.kernel.invokeFunction('convertToInteractive',\n",
              "                                                    [key], {});\n",
              "        if (!dataTable) return;\n",
              "\n",
              "        const docLinkHtml = 'Like what you see? Visit the ' +\n",
              "          '<a target=\"_blank\" href=https://colab.research.google.com/notebooks/data_table.ipynb>data table notebook</a>'\n",
              "          + ' to learn more about interactive tables.';\n",
              "        element.innerHTML = '';\n",
              "        dataTable['output_type'] = 'display_data';\n",
              "        await google.colab.output.renderOutput(dataTable, element);\n",
              "        const docLink = document.createElement('div');\n",
              "        docLink.innerHTML = docLinkHtml;\n",
              "        element.appendChild(docLink);\n",
              "      }\n",
              "    </script>\n",
              "  </div>\n",
              "\n",
              "\n",
              "<div id=\"df-776b4cec-c187-4fc9-b3d5-5d6389e7ff5d\">\n",
              "  <button class=\"colab-df-quickchart\" onclick=\"quickchart('df-776b4cec-c187-4fc9-b3d5-5d6389e7ff5d')\"\n",
              "            title=\"Suggest charts\"\n",
              "            style=\"display:none;\">\n",
              "\n",
              "<svg xmlns=\"http://www.w3.org/2000/svg\" height=\"24px\"viewBox=\"0 0 24 24\"\n",
              "     width=\"24px\">\n",
              "    <g>\n",
              "        <path d=\"M19 3H5c-1.1 0-2 .9-2 2v14c0 1.1.9 2 2 2h14c1.1 0 2-.9 2-2V5c0-1.1-.9-2-2-2zM9 17H7v-7h2v7zm4 0h-2V7h2v10zm4 0h-2v-4h2v4z\"/>\n",
              "    </g>\n",
              "</svg>\n",
              "  </button>\n",
              "\n",
              "<style>\n",
              "  .colab-df-quickchart {\n",
              "      --bg-color: #E8F0FE;\n",
              "      --fill-color: #1967D2;\n",
              "      --hover-bg-color: #E2EBFA;\n",
              "      --hover-fill-color: #174EA6;\n",
              "      --disabled-fill-color: #AAA;\n",
              "      --disabled-bg-color: #DDD;\n",
              "  }\n",
              "\n",
              "  [theme=dark] .colab-df-quickchart {\n",
              "      --bg-color: #3B4455;\n",
              "      --fill-color: #D2E3FC;\n",
              "      --hover-bg-color: #434B5C;\n",
              "      --hover-fill-color: #FFFFFF;\n",
              "      --disabled-bg-color: #3B4455;\n",
              "      --disabled-fill-color: #666;\n",
              "  }\n",
              "\n",
              "  .colab-df-quickchart {\n",
              "    background-color: var(--bg-color);\n",
              "    border: none;\n",
              "    border-radius: 50%;\n",
              "    cursor: pointer;\n",
              "    display: none;\n",
              "    fill: var(--fill-color);\n",
              "    height: 32px;\n",
              "    padding: 0;\n",
              "    width: 32px;\n",
              "  }\n",
              "\n",
              "  .colab-df-quickchart:hover {\n",
              "    background-color: var(--hover-bg-color);\n",
              "    box-shadow: 0 1px 2px rgba(60, 64, 67, 0.3), 0 1px 3px 1px rgba(60, 64, 67, 0.15);\n",
              "    fill: var(--button-hover-fill-color);\n",
              "  }\n",
              "\n",
              "  .colab-df-quickchart-complete:disabled,\n",
              "  .colab-df-quickchart-complete:disabled:hover {\n",
              "    background-color: var(--disabled-bg-color);\n",
              "    fill: var(--disabled-fill-color);\n",
              "    box-shadow: none;\n",
              "  }\n",
              "\n",
              "  .colab-df-spinner {\n",
              "    border: 2px solid var(--fill-color);\n",
              "    border-color: transparent;\n",
              "    border-bottom-color: var(--fill-color);\n",
              "    animation:\n",
              "      spin 1s steps(1) infinite;\n",
              "  }\n",
              "\n",
              "  @keyframes spin {\n",
              "    0% {\n",
              "      border-color: transparent;\n",
              "      border-bottom-color: var(--fill-color);\n",
              "      border-left-color: var(--fill-color);\n",
              "    }\n",
              "    20% {\n",
              "      border-color: transparent;\n",
              "      border-left-color: var(--fill-color);\n",
              "      border-top-color: var(--fill-color);\n",
              "    }\n",
              "    30% {\n",
              "      border-color: transparent;\n",
              "      border-left-color: var(--fill-color);\n",
              "      border-top-color: var(--fill-color);\n",
              "      border-right-color: var(--fill-color);\n",
              "    }\n",
              "    40% {\n",
              "      border-color: transparent;\n",
              "      border-right-color: var(--fill-color);\n",
              "      border-top-color: var(--fill-color);\n",
              "    }\n",
              "    60% {\n",
              "      border-color: transparent;\n",
              "      border-right-color: var(--fill-color);\n",
              "    }\n",
              "    80% {\n",
              "      border-color: transparent;\n",
              "      border-right-color: var(--fill-color);\n",
              "      border-bottom-color: var(--fill-color);\n",
              "    }\n",
              "    90% {\n",
              "      border-color: transparent;\n",
              "      border-bottom-color: var(--fill-color);\n",
              "    }\n",
              "  }\n",
              "</style>\n",
              "\n",
              "  <script>\n",
              "    async function quickchart(key) {\n",
              "      const quickchartButtonEl =\n",
              "        document.querySelector('#' + key + ' button');\n",
              "      quickchartButtonEl.disabled = true;  // To prevent multiple clicks.\n",
              "      quickchartButtonEl.classList.add('colab-df-spinner');\n",
              "      try {\n",
              "        const charts = await google.colab.kernel.invokeFunction(\n",
              "            'suggestCharts', [key], {});\n",
              "      } catch (error) {\n",
              "        console.error('Error during call to suggestCharts:', error);\n",
              "      }\n",
              "      quickchartButtonEl.classList.remove('colab-df-spinner');\n",
              "      quickchartButtonEl.classList.add('colab-df-quickchart-complete');\n",
              "    }\n",
              "    (() => {\n",
              "      let quickchartButtonEl =\n",
              "        document.querySelector('#df-776b4cec-c187-4fc9-b3d5-5d6389e7ff5d button');\n",
              "      quickchartButtonEl.style.display =\n",
              "        google.colab.kernel.accessAllowed ? 'block' : 'none';\n",
              "    })();\n",
              "  </script>\n",
              "</div>\n",
              "\n",
              "  <div id=\"id_344f2db9-17b4-4680-a195-040fafe1e77a\">\n",
              "    <style>\n",
              "      .colab-df-generate {\n",
              "        background-color: #E8F0FE;\n",
              "        border: none;\n",
              "        border-radius: 50%;\n",
              "        cursor: pointer;\n",
              "        display: none;\n",
              "        fill: #1967D2;\n",
              "        height: 32px;\n",
              "        padding: 0 0 0 0;\n",
              "        width: 32px;\n",
              "      }\n",
              "\n",
              "      .colab-df-generate:hover {\n",
              "        background-color: #E2EBFA;\n",
              "        box-shadow: 0px 1px 2px rgba(60, 64, 67, 0.3), 0px 1px 3px 1px rgba(60, 64, 67, 0.15);\n",
              "        fill: #174EA6;\n",
              "      }\n",
              "\n",
              "      [theme=dark] .colab-df-generate {\n",
              "        background-color: #3B4455;\n",
              "        fill: #D2E3FC;\n",
              "      }\n",
              "\n",
              "      [theme=dark] .colab-df-generate:hover {\n",
              "        background-color: #434B5C;\n",
              "        box-shadow: 0px 1px 3px 1px rgba(0, 0, 0, 0.15);\n",
              "        filter: drop-shadow(0px 1px 2px rgba(0, 0, 0, 0.3));\n",
              "        fill: #FFFFFF;\n",
              "      }\n",
              "    </style>\n",
              "    <button class=\"colab-df-generate\" onclick=\"generateWithVariable('hand_coordinates')\"\n",
              "            title=\"Generate code using this dataframe.\"\n",
              "            style=\"display:none;\">\n",
              "\n",
              "  <svg xmlns=\"http://www.w3.org/2000/svg\" height=\"24px\"viewBox=\"0 0 24 24\"\n",
              "       width=\"24px\">\n",
              "    <path d=\"M7,19H8.4L18.45,9,17,7.55,7,17.6ZM5,21V16.75L18.45,3.32a2,2,0,0,1,2.83,0l1.4,1.43a1.91,1.91,0,0,1,.58,1.4,1.91,1.91,0,0,1-.58,1.4L9.25,21ZM18.45,9,17,7.55Zm-12,3A5.31,5.31,0,0,0,4.9,8.1,5.31,5.31,0,0,0,1,6.5,5.31,5.31,0,0,0,4.9,4.9,5.31,5.31,0,0,0,6.5,1,5.31,5.31,0,0,0,8.1,4.9,5.31,5.31,0,0,0,12,6.5,5.46,5.46,0,0,0,6.5,12Z\"/>\n",
              "  </svg>\n",
              "    </button>\n",
              "    <script>\n",
              "      (() => {\n",
              "      const buttonEl =\n",
              "        document.querySelector('#id_344f2db9-17b4-4680-a195-040fafe1e77a button.colab-df-generate');\n",
              "      buttonEl.style.display =\n",
              "        google.colab.kernel.accessAllowed ? 'block' : 'none';\n",
              "\n",
              "      buttonEl.onclick = () => {\n",
              "        google.colab.notebook.generateWithVariable('hand_coordinates');\n",
              "      }\n",
              "      })();\n",
              "    </script>\n",
              "  </div>\n",
              "\n",
              "    </div>\n",
              "  </div>\n"
            ],
            "text/plain": [
              "       thumb_x   thumb_y   index_x   index_y  middle_x  middle_y    ring_x  \\\n",
              "0     0.568524  0.729688  0.540529  0.648647  0.603436  0.778746  0.606466   \n",
              "1     0.565488  0.692211  0.535244  0.610249  0.603174  0.755669  0.605894   \n",
              "2     0.562650  0.641434  0.526106  0.545266  0.596484  0.709543  0.597691   \n",
              "3     0.563605  0.630489  0.529653  0.540169  0.598054  0.705837  0.597662   \n",
              "4     0.561831  0.606720  0.531775  0.507468  0.595446  0.682920  0.594938   \n",
              "...        ...       ...       ...       ...       ...       ...       ...   \n",
              "2949  0.673236  0.440742  0.693626  0.561158  0.701099  0.597889  0.706767   \n",
              "2950  0.672875  0.439260  0.693518  0.559343  0.701588  0.597980  0.706157   \n",
              "2951  0.669850  0.435000  0.693077  0.554181  0.700612  0.591062  0.706182   \n",
              "2952  0.668282  0.433541  0.693060  0.547988  0.700983  0.584509  0.706833   \n",
              "2953  0.668837  0.396923  0.691626  0.518909  0.698331  0.559028  0.705970   \n",
              "\n",
              "        ring_y   small_x   small_y  \n",
              "0     0.827977  0.594496  0.860963  \n",
              "1     0.802521  0.591579  0.831874  \n",
              "2     0.754647  0.583163  0.780862  \n",
              "3     0.748886  0.583934  0.771489  \n",
              "4     0.728781  0.580073  0.752076  \n",
              "...        ...       ...       ...  \n",
              "2949  0.631979  0.708377  0.663240  \n",
              "2950  0.632559  0.706446  0.660544  \n",
              "2951  0.625151  0.707184  0.653399  \n",
              "2952  0.619215  0.707422  0.647399  \n",
              "2953  0.593847  0.706809  0.625725  \n",
              "\n",
              "[2954 rows x 10 columns]"
            ]
          },
          "execution_count": 72,
          "metadata": {},
          "output_type": "execute_result"
        }
      ],
      "source": [
        "hand_coordinates"
      ]
    },
    {
      "cell_type": "markdown",
      "metadata": {},
      "source": [
        "### Normalize the input data so that x,y coordinates do not variate with camera resolution and hand position"
      ]
    },
    {
      "cell_type": "code",
      "execution_count": 73,
      "metadata": {
        "id": "mH8szcKNnCdj"
      },
      "outputs": [],
      "source": [
        "odd_columns = hand_coordinates.iloc[:, ::2]\n",
        "even_columns = hand_coordinates.iloc[:, 1::2]\n",
        "\n",
        "min_odd = odd_columns.min(axis=1)\n",
        "min_even = even_columns.min(axis=1)\n",
        "\n",
        "min_odd = pd.Series(min_odd, index=hand_coordinates.index)\n",
        "min_even = pd.Series(min_even, index=hand_coordinates.index)\n",
        "\n",
        "hand_coordinates.iloc[:, ::2] = hand_coordinates.iloc[:, ::2].sub(min_odd, axis=0)\n",
        "hand_coordinates.iloc[:, 1::2] = hand_coordinates.iloc[:, 1::2].sub(min_even, axis=0)"
      ]
    },
    {
      "cell_type": "code",
      "execution_count": 74,
      "metadata": {
        "colab": {
          "base_uri": "https://localhost:8080/"
        },
        "id": "ssexzHvAgaXe",
        "outputId": "89c4a1f6-1e65-43db-c63c-90250f030155"
      },
      "outputs": [
        {
          "data": {
            "text/plain": [
              "(10,)"
            ]
          },
          "execution_count": 74,
          "metadata": {},
          "output_type": "execute_result"
        }
      ],
      "source": [
        "hand_coordinates.iloc[1].shape"
      ]
    },
    {
      "cell_type": "code",
      "execution_count": 75,
      "metadata": {
        "colab": {
          "base_uri": "https://localhost:8080/"
        },
        "id": "cQRODmLkd08X",
        "outputId": "ffe44991-bbed-42d8-de0a-a512a5cc313b"
      },
      "outputs": [
        {
          "data": {
            "text/plain": [
              "0       1\n",
              "1       1\n",
              "2       1\n",
              "3       1\n",
              "4       1\n",
              "       ..\n",
              "2949    6\n",
              "2950    6\n",
              "2951    6\n",
              "2952    6\n",
              "2953    6\n",
              "Name: runs, Length: 2954, dtype: int64"
            ]
          },
          "execution_count": 75,
          "metadata": {},
          "output_type": "execute_result"
        }
      ],
      "source": [
        "runs"
      ]
    },
    {
      "cell_type": "markdown",
      "metadata": {},
      "source": [
        "### Split the data in train and test dataset"
      ]
    },
    {
      "cell_type": "code",
      "execution_count": 94,
      "metadata": {
        "id": "SXOyDqfdKqtM"
      },
      "outputs": [],
      "source": [
        "hand_coordinates_train, hand_coordinates_test, runs_train, runs_test = train_test_split(hand_coordinates, runs , random_state=104, test_size=0.25, shuffle=True)"
      ]
    },
    {
      "cell_type": "code",
      "execution_count": 77,
      "metadata": {
        "colab": {
          "base_uri": "https://localhost:8080/"
        },
        "id": "AVwuDnZreLnN",
        "outputId": "077f9cb3-69e2-4abd-f552-d5f3b9f4b685"
      },
      "outputs": [
        {
          "name": "stdout",
          "output_type": "stream",
          "text": [
            "runs\n",
            "3    457\n",
            "2    446\n",
            "1    372\n",
            "6    353\n",
            "5    309\n",
            "4    278\n",
            "Name: count, dtype: int64\n",
            "runs\n",
            "3    152\n",
            "2    152\n",
            "1    130\n",
            "6    116\n",
            "5    112\n",
            "4     77\n",
            "Name: count, dtype: int64\n"
          ]
        }
      ],
      "source": [
        "train_output_classes_counts = runs_train.value_counts()\n",
        "test_output_classes_counts = runs_test.value_counts()\n",
        "print(train_output_classes_counts)\n",
        "print(test_output_classes_counts)"
      ]
    },
    {
      "cell_type": "code",
      "execution_count": 78,
      "metadata": {
        "id": "YI-ExF4ye1K2"
      },
      "outputs": [],
      "source": [
        "train_output_classes = runs_train.unique()\n",
        "train_output_count = [train_output_classes_counts[1], train_output_classes_counts[2], train_output_classes_counts[3],\n",
        "                train_output_classes_counts[4], train_output_classes_counts[5], train_output_classes_counts[6]]"
      ]
    },
    {
      "cell_type": "code",
      "execution_count": 79,
      "metadata": {
        "colab": {
          "base_uri": "https://localhost:8080/",
          "height": 430
        },
        "id": "WDtAwMmHekXt",
        "outputId": "31f603aa-6cdb-4633-e889-32b7db876f38"
      },
      "outputs": [
        {
          "data": {
            "image/png": "[encoded data removed]",
            "text/plain": [
              "<Figure size 640x480 with 1 Axes>"
            ]
          },
          "metadata": {},
          "output_type": "display_data"
        }
      ],
      "source": [
        "plt.bar(output_classes, train_output_count)\n",
        "plt.show()"
      ]
    },
    {
      "cell_type": "code",
      "execution_count": 80,
      "metadata": {
        "id": "ggPt17Twe--M"
      },
      "outputs": [],
      "source": [
        "test_output_classes = runs_test.unique()\n",
        "test_output_count = [test_output_classes_counts[1], test_output_classes_counts[2], test_output_classes_counts[3],\n",
        "                test_output_classes_counts[4], test_output_classes_counts[5], test_output_classes_counts[6]]"
      ]
    },
    {
      "cell_type": "code",
      "execution_count": 81,
      "metadata": {
        "colab": {
          "base_uri": "https://localhost:8080/",
          "height": 430
        },
        "id": "7LBY66bPfBQN",
        "outputId": "eab0fdc7-c3af-476a-aa5c-6df06d690785"
      },
      "outputs": [
        {
          "data": {
            "image/png": "[encoded data removed]",
            "text/plain": [
              "<Figure size 640x480 with 1 Axes>"
            ]
          },
          "metadata": {},
          "output_type": "display_data"
        }
      ],
      "source": [
        "plt.bar(output_classes, test_output_count)\n",
        "plt.show()"
      ]
    },
    {
      "cell_type": "markdown",
      "metadata": {},
      "source": [
        "### Convert runs to categorical type for probability prediction of runs"
      ]
    },
    {
      "cell_type": "code",
      "execution_count": null,
      "metadata": {
        "colab": {
          "base_uri": "https://localhost:8080/"
        },
        "id": "DZRy3OP5jNZU",
        "outputId": "75215f34-faac-4040-da61-8a56028a02f1"
      },
      "outputs": [
        {
          "name": "stdout",
          "output_type": "stream",
          "text": [
            "1240    3\n",
            "345     1\n",
            "1256    3\n",
            "2624    6\n",
            "1504    3\n",
            "       ..\n",
            "654     2\n",
            "1275    3\n",
            "729     2\n",
            "1729    4\n",
            "69      1\n",
            "Name: runs, Length: 2215, dtype: int64\n",
            "[[0. 0. 1. 0. 0. 0.]\n",
            " [1. 0. 0. 0. 0. 0.]\n",
            " [0. 0. 1. 0. 0. 0.]\n",
            " ...\n",
            " [0. 1. 0. 0. 0. 0.]\n",
            " [0. 0. 0. 1. 0. 0.]\n",
            " [1. 0. 0. 0. 0. 0.]]\n"
          ]
        }
      ],
      "source": [
        "runs_train = to_categorical(runs_train - 1)\n",
        "runs_test = to_categorical(runs_test - 1)"
      ]
    },
    {
      "cell_type": "markdown",
      "metadata": {},
      "source": [
        "### Building the model with Simple NN"
      ]
    },
    {
      "cell_type": "code",
      "execution_count": 83,
      "metadata": {
        "colab": {
          "base_uri": "https://localhost:8080/"
        },
        "id": "FZX8yZTEfL2M",
        "outputId": "94d64fa5-64f0-41f1-ab3a-2bff5a409380"
      },
      "outputs": [
        {
          "name": "stdout",
          "output_type": "stream",
          "text": [
            "Model: \"sequential\"\n",
            "_________________________________________________________________\n",
            " Layer (type)                Output Shape              Param #   \n",
            "=================================================================\n",
            " dense (Dense)               (None, 100)               1100      \n",
            "                                                                 \n",
            " dense_1 (Dense)             (None, 50)                5050      \n",
            "                                                                 \n",
            " dense_2 (Dense)             (None, 10)                510       \n",
            "                                                                 \n",
            " dense_3 (Dense)             (None, 6)                 66        \n",
            "                                                                 \n",
            "=================================================================\n",
            "Total params: 6726 (26.27 KB)\n",
            "Trainable params: 6726 (26.27 KB)\n",
            "Non-trainable params: 0 (0.00 Byte)\n",
            "_________________________________________________________________\n",
            "None\n"
          ]
        }
      ],
      "source": [
        "def nvidia_model():\n",
        "    model = Sequential()\n",
        "    model.add(Dense(100, activation = 'relu', input_shape = (10, )))\n",
        "    model.add(Dense(50, activation = 'relu'))\n",
        "    model.add(Dense(10, activation = 'relu'))\n",
        "    model.add(Dense(6, activation='softmax'))\n",
        "\n",
        "    model.compile(loss=tf.keras.losses.categorical_crossentropy,\n",
        "              optimizer=tf.keras.optimizers.Adam(),\n",
        "              metrics=['accuracy'])\n",
        "    return model\n",
        "\n",
        "model = nvidia_model()\n",
        "print(model.summary())"
      ]
    },
    {
      "cell_type": "code",
      "execution_count": 84,
      "metadata": {
        "colab": {
          "base_uri": "https://localhost:8080/"
        },
        "id": "rUY-nbd0hOL1",
        "outputId": "fc2baec1-cdd3-4cfc-8c6d-65e347ca4ea2"
      },
      "outputs": [
        {
          "name": "stdout",
          "output_type": "stream",
          "text": [
            "Epoch 1/25\n",
            "35/35 [==============================] - 2s 11ms/step - loss: 1.7438 - accuracy: 0.2655 - val_loss: 1.6723 - val_accuracy: 0.2179\n",
            "Epoch 2/25\n",
            "35/35 [==============================] - 0s 4ms/step - loss: 1.5800 - accuracy: 0.4072 - val_loss: 1.4381 - val_accuracy: 0.5440\n",
            "Epoch 3/25\n",
            "35/35 [==============================] - 0s 4ms/step - loss: 1.2799 - accuracy: 0.6144 - val_loss: 1.0937 - val_accuracy: 0.6779\n",
            "Epoch 4/25\n",
            "35/35 [==============================] - 0s 5ms/step - loss: 0.9715 - accuracy: 0.7187 - val_loss: 0.8481 - val_accuracy: 0.7442\n",
            "Epoch 5/25\n",
            "35/35 [==============================] - 0s 4ms/step - loss: 0.7673 - accuracy: 0.7607 - val_loss: 0.6777 - val_accuracy: 0.7645\n",
            "Epoch 6/25\n",
            "35/35 [==============================] - 0s 5ms/step - loss: 0.6028 - accuracy: 0.7946 - val_loss: 0.5317 - val_accuracy: 0.8579\n",
            "Epoch 7/25\n",
            "35/35 [==============================] - 0s 4ms/step - loss: 0.4550 - accuracy: 0.9079 - val_loss: 0.3837 - val_accuracy: 0.9337\n",
            "Epoch 8/25\n",
            "35/35 [==============================] - 0s 5ms/step - loss: 0.3305 - accuracy: 0.9381 - val_loss: 0.3060 - val_accuracy: 0.9310\n",
            "Epoch 9/25\n",
            "35/35 [==============================] - 0s 5ms/step - loss: 0.2488 - accuracy: 0.9571 - val_loss: 0.2146 - val_accuracy: 0.9553\n",
            "Epoch 10/25\n",
            "35/35 [==============================] - 0s 4ms/step - loss: 0.1900 - accuracy: 0.9688 - val_loss: 0.1671 - val_accuracy: 0.9729\n",
            "Epoch 11/25\n",
            "35/35 [==============================] - 0s 5ms/step - loss: 0.1573 - accuracy: 0.9693 - val_loss: 0.1411 - val_accuracy: 0.9743\n",
            "Epoch 12/25\n",
            "35/35 [==============================] - 0s 5ms/step - loss: 0.1359 - accuracy: 0.9743 - val_loss: 0.1248 - val_accuracy: 0.9756\n",
            "Epoch 13/25\n",
            "35/35 [==============================] - 0s 4ms/step - loss: 0.1178 - accuracy: 0.9752 - val_loss: 0.1106 - val_accuracy: 0.9811\n",
            "Epoch 14/25\n",
            "35/35 [==============================] - 0s 5ms/step - loss: 0.1068 - accuracy: 0.9770 - val_loss: 0.1033 - val_accuracy: 0.9797\n",
            "Epoch 15/25\n",
            "35/35 [==============================] - 0s 4ms/step - loss: 0.0991 - accuracy: 0.9788 - val_loss: 0.0968 - val_accuracy: 0.9797\n",
            "Epoch 16/25\n",
            "35/35 [==============================] - 0s 4ms/step - loss: 0.0929 - accuracy: 0.9797 - val_loss: 0.0860 - val_accuracy: 0.9783\n",
            "Epoch 17/25\n",
            "35/35 [==============================] - 0s 4ms/step - loss: 0.0841 - accuracy: 0.9801 - val_loss: 0.0799 - val_accuracy: 0.9851\n",
            "Epoch 18/25\n",
            "35/35 [==============================] - 0s 4ms/step - loss: 0.0783 - accuracy: 0.9842 - val_loss: 0.0764 - val_accuracy: 0.9797\n",
            "Epoch 19/25\n",
            "35/35 [==============================] - 0s 4ms/step - loss: 0.0722 - accuracy: 0.9860 - val_loss: 0.0756 - val_accuracy: 0.9851\n",
            "Epoch 20/25\n",
            "35/35 [==============================] - 0s 4ms/step - loss: 0.0710 - accuracy: 0.9847 - val_loss: 0.0693 - val_accuracy: 0.9878\n",
            "Epoch 21/25\n",
            "35/35 [==============================] - 0s 4ms/step - loss: 0.0654 - accuracy: 0.9869 - val_loss: 0.0693 - val_accuracy: 0.9811\n",
            "Epoch 22/25\n",
            "35/35 [==============================] - 0s 4ms/step - loss: 0.0658 - accuracy: 0.9837 - val_loss: 0.0639 - val_accuracy: 0.9838\n",
            "Epoch 23/25\n",
            "35/35 [==============================] - 0s 4ms/step - loss: 0.0625 - accuracy: 0.9851 - val_loss: 0.0648 - val_accuracy: 0.9851\n",
            "Epoch 24/25\n",
            "35/35 [==============================] - 0s 4ms/step - loss: 0.0601 - accuracy: 0.9869 - val_loss: 0.0594 - val_accuracy: 0.9892\n",
            "Epoch 25/25\n",
            "35/35 [==============================] - 0s 4ms/step - loss: 0.0586 - accuracy: 0.9860 - val_loss: 0.0609 - val_accuracy: 0.9865\n"
          ]
        }
      ],
      "source": [
        "run_prediction = model.fit(hand_coordinates_train, runs_train, validation_data=(hand_coordinates_test, runs_test), epochs=25, batch_size=64)"
      ]
    },
    {
      "cell_type": "code",
      "execution_count": 85,
      "metadata": {
        "colab": {
          "base_uri": "https://localhost:8080/",
          "height": 72
        },
        "id": "w4qQLf7Giy75",
        "outputId": "9a921c3f-620a-4e9a-8548-213507eea0d4"
      },
      "outputs": [
        {
          "name": "stderr",
          "output_type": "stream",
          "text": [
            "/usr/local/lib/python3.10/dist-packages/keras/src/engine/training.py:3103: UserWarning: You are saving your model as an HDF5 file via `model.save()`. This file format is considered legacy. We recommend using instead the native Keras format, e.g. `model.save('my_model.keras')`.\n",
            "  saving_api.save_model(\n"
          ]
        },
        {
          "data": {
            "application/javascript": "\n    async function download(id, filename, size) {\n      if (!google.colab.kernel.accessAllowed) {\n        return;\n      }\n      const div = document.createElement('div');\n      const label = document.createElement('label');\n      label.textContent = `Downloading \"${filename}\": `;\n      div.appendChild(label);\n      const progress = document.createElement('progress');\n      progress.max = size;\n      div.appendChild(progress);\n      document.body.appendChild(div);\n\n      const buffers = [];\n      let downloaded = 0;\n\n      const channel = await google.colab.kernel.comms.open(id);\n      // Send a message to notify the kernel that we're ready.\n      channel.send({})\n\n      for await (const message of channel.messages) {\n        // Send a message to notify the kernel that we're ready.\n        channel.send({})\n        if (message.buffers) {\n          for (const buffer of message.buffers) {\n            buffers.push(buffer);\n            downloaded += buffer.byteLength;\n            progress.value = downloaded;\n          }\n        }\n      }\n      const blob = new Blob(buffers, {type: 'application/binary'});\n      const a = document.createElement('a');\n      a.href = window.URL.createObjectURL(blob);\n      a.download = filename;\n      div.appendChild(a);\n      a.click();\n      div.remove();\n    }\n  ",
            "text/plain": [
              "<IPython.core.display.Javascript object>"
            ]
          },
          "metadata": {},
          "output_type": "display_data"
        },
        {
          "data": {
            "application/javascript": "download(\"download_8bde2459-4da0-4b1f-a0e1-f8aafd53dda6\", \"model.h5\", 122696)",
            "text/plain": [
              "<IPython.core.display.Javascript object>"
            ]
          },
          "metadata": {},
          "output_type": "display_data"
        }
      ],
      "source": [
        "model.save('model.h5')\n",
        "from google.colab import files\n",
        "files.download('model.h5')"
      ]
    },
    {
      "cell_type": "code",
      "execution_count": 92,
      "metadata": {
        "colab": {
          "base_uri": "https://localhost:8080/"
        },
        "id": "BKtS9Dfrqd_Q",
        "outputId": "668f7736-4e11-4178-c863-2796cdfe7fc3"
      },
      "outputs": [
        {
          "name": "stdout",
          "output_type": "stream",
          "text": [
            "24/24 [==============================] - 0s 2ms/step\n",
            "[[8.4534240e-06 8.0223657e-07 1.8507394e-07 2.8412493e-03 9.9468660e-01\n",
            "  2.4627042e-03]\n",
            " [2.3877937e-03 1.3720900e-04 1.4438607e-02 9.7648627e-01 6.5053930e-03\n",
            "  4.4727181e-05]\n",
            " [3.9311271e-04 7.6630018e-03 9.9091274e-01 1.0312257e-03 1.6262833e-08\n",
            "  7.6921891e-10]\n",
            " ...\n",
            " [2.4125742e-04 1.5039054e-03 9.9566829e-01 2.5865636e-03 2.2973852e-08\n",
            "  5.0873322e-10]\n",
            " [3.3963863e-03 9.9283510e-01 3.7674676e-03 9.5202410e-07 1.2280558e-09\n",
            "  6.0989707e-09]\n",
            " [5.5276626e-04 8.6876498e-06 4.4995453e-05 2.6113439e-01 7.3579586e-01\n",
            "  2.4632479e-03]]\n",
            "[[0. 0. 0. 0. 1. 0.]\n",
            " [0. 0. 0. 1. 0. 0.]\n",
            " [0. 0. 1. 0. 0. 0.]\n",
            " ...\n",
            " [0. 0. 1. 0. 0. 0.]\n",
            " [0. 1. 0. 0. 0. 0.]\n",
            " [0. 0. 0. 0. 1. 0.]]\n"
          ]
        }
      ],
      "source": [
        "random_index = 231\n",
        "print(model.predict(hand_coordinates_test))\n",
        "print(runs_test)"
      ]
    },
    {
      "cell_type": "code",
      "execution_count": null,
      "metadata": {
        "id": "bMgp1TOgXySC"
      },
      "outputs": [],
      "source": []
    }
  ],
  "metadata": {
    "colab": {
      "provenance": []
    },
    "kernelspec": {
      "display_name": "Python 3",
      "name": "python3"
    },
    "language_info": {
      "name": "python"
    }
  },
  "nbformat": 4,
  "nbformat_minor": 0
}
